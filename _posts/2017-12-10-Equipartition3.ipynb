---
layout: post
title:  "Equiparitioning Notebook"
date:   2017-12-10 15:46:30 -0500
categories: jekyll update
---
{
 "cells": [
  {
   "cell_type": "code",
   "execution_count": 1,
   "metadata": {
    "collapsed": true
   },
   "outputs": [],
   "source": [
    "from numpy import array\n",
    "import inspect\n",
    "import subprocess\n",
    "import shlex\n",
    "import numpy as np\n",
    "import scipy.cluster.vq as vq1\n",
    "from scipy.cluster.vq import vq, kmeans, whiten, kmedians\n",
    "import matplotlib.pyplot as plt\n",
    "colors = [\"#2078B5\", \"#FF7F0F\", \"#2CA12C\", \"#D72827\", \"#9467BE\", \"#8C574B\",\n",
    "            \"#E478C2\", \"#808080\", \"#BCBE20\", \"#17BED0\", \"#AEC8E9\", \"#FFBC79\", \n",
    "            \"#98E08B\", \"#FF9896\", \"#C6B1D6\", \"#C59D94\", \"#F8B7D3\", \"#C8C8C8\", \n",
    "           \"#DCDC8E\", \"#9EDAE6\"] "
   ]
  },
  {
   "cell_type": "code",
   "execution_count": 2,
   "metadata": {
    "collapsed": true
   },
   "outputs": [],
   "source": [
    "dat2 = np.loadtxt('/Users/Winston/Dropbox/Equipartition/cart-1.2.2/xy512512exp.dat')\n",
    "dat3 = np.loadtxt('/Users/Winston/Dropbox/Equipartition/cart-1.2.2/xy512512gaussian.dat')"
   ]
  },
  {
   "cell_type": "code",
   "execution_count": null,
   "metadata": {
    "collapsed": true
   },
   "outputs": [],
   "source": [
    "PATH = '/Users/Winston/Dropbox/Equipartition/cart-1.2.2/'\n",
    "PATH1 = '/Dropbox/Equipartition/cart-1.2.2/'\n",
    "p=subprocess.Popen(['./exp_cart.sh'], cwd =PATH) # makes expout.dat\n",
    "p.wait()\n",
    "p=subprocess.Popen(['./gauss_cart.sh'], cwd =PATH)\n",
    "p.wait()\n",
    "N=50\n",
    "f, axs = plt.subplots(2, 2,figsize=(15,12))\n",
    "\n",
    "plt.tight_layout(pad=1.4, w_pad=5.5, h_pad=13.0)\n",
    "axs = axs.ravel()\n",
    "data_list = [dat2,dat3]\n",
    "titles = [\"Exp\",\"Exp Diffused\",'Gauss',\"Gauss Diffused\"]\n",
    "types = ['exp','gauss']\n",
    "\n",
    "xy_dif_exp = np.zeros([1,2])\n",
    "xy_dif_gauss = np.zeros([1,2])\n",
    "\n",
    "for k,j in enumerate([0,2]):\n",
    "    \n",
    "    features = data_list[k]\n",
    "    codebook, distortion = kmedians(features,N)\n",
    "    code, dist= vq(features,codebook)\n",
    "    \n",
    "    for i in range(N):\n",
    "        \n",
    "        # MAKE SHELL SCRIPT \n",
    "        file = open(PATH+\"interp\"+types[k]+str(i)+\".sh\",\"w\") \n",
    "        file.write(\"#!/bin/sh\\n\") \n",
    "        file.write(\"cat \"+PATH+types[k]+str(i)+\".dat | ./interp 512 512 \"\\\n",
    "                   +types[k]+\"out.dat > \"+PATH+types[k]+\"out\"+str(i)+\".dat\\n\")\n",
    "        file.write(\"cat \"+PATH+\"dif\"+types[k]+str(i)+\".dat | ./interp 512 512 \"\\\n",
    "                   +types[k]+\"out.dat > \"+PATH+\"dif\"+types[k]+\"out\"+str(i)+\".dat\\n\")\n",
    "        file.close() \n",
    "                    \n",
    "        # MAKE EXECUTABLE\n",
    "        p=subprocess.call(['chmod','a+x',PATH+\"interp\"+types[k]+str(i)+\".sh\"])\n",
    "        # save data to go to interp\n",
    "        x = features[code==i,0]\n",
    "        y = features[code==i,1]\n",
    "        \n",
    "        \n",
    "        np.savetxt(PATH+types[k]+str(i)+'.dat',np.column_stack([x,y]),fmt ='%.18f',delimiter=' ')\n",
    "        np.savetxt(PATH+\"dif\"+types[k]+str(i)+'.dat',np.column_stack([codebook[:,0],codebook[:,1]]),fmt ='%.18f',delimiter=' ')\n",
    "        # plot\n",
    "        axs[j].plot(x,y,',', c=colors[i%len(colors)])\n",
    "        \n",
    "        # call interp\n",
    "        #print(PATH+\"interp\"+types[k]+str(i)+\".sh\")\n",
    "        p = subprocess.Popen(['./'+\"interp\"+types[k]+str(i)+\".sh\"], cwd =PATH) # makes expout.dat\n",
    "        \n",
    "        p.wait()\n",
    "        \n",
    "        # saves data to run through interp shell script\n",
    "        data=np.loadtxt(PATH+types[k]+'out'+str(i)+'.dat') #Gaussout0.dat\n",
    "        \n",
    "        axs[j+1].plot(data[:,0],data[:,1],',', c=colors[i%len(colors)])\n",
    "        if types[k]==\"exp\":\n",
    "            \n",
    "    axs[j].plot(codebook[:,0],codebook[:,1],'ko',ms=3)\n",
    "    \n",
    "    dif_medians = np.loadtxt(PATH+'dif'+types[k]+'out'+str(i)+'.dat')\n",
    "    axs[j+1].plot(dif_medians[:,0],dif_medians[:,1],'ko',ms=3)\n",
    "        \n",
    "for j in range(4):    \n",
    "    axs[j].set_title(titles[j])\n",
    "    \n",
    "    \n",
    "    \n",
    "    \n",
    "# Histograms\n",
    "binsize = 15\n",
    "bigbin = 20\n",
    "\n",
    "# exp raw\n",
    "Hexdat,xedge,yedge=np.histogram2d(dat2[:,0],dat2[:,1],bins=[binsize,binsize],range=[[200, 270], [200, 270]]) \n",
    "\n",
    "H,xedge,yedge=np.histogram2d(dat[:,0],dat[:,1],bins=[binsize,binsize],range=[[200, 245], [200, 245]]) #BINS = SIZE/2*PIXELGAP\n",
    "\n",
    "# Gauss Raw\n",
    "H2,xedge,yedge=np.histogram2d(dat3[:,0],dat3[:,1],bins=[binsize,binsize],range=[[200, 300], [200, 300]]) #BINS = SIZE/2*PIXELGAP\n",
    "\n",
    "H3,xedge,yedge=np.histogram2d(dat4[:,0],dat4[:,1],bins=[binsize,binsize],range=[[200, 255], [200, 255]]) #BINS = SIZE/2*PIXELGAP\n",
    "\n",
    "    \n",
    "    \n",
    "    \n",
    "    \n",
    "    \n",
    "\n",
    "plt.axes([0.05, 0.475, .4, .1] )\n",
    "plt.hist(Hexdat.flatten(),bins = 20,histtype = \"bar\")\n",
    "plt.axes([0.57, 0.475, .4, .1] )\n",
    "plt.hist(H.flatten(),bins = 20,histtype = \"bar\")\n",
    "\n",
    "\n",
    "plt.axes([0.05, -0.1, .4, .1] )\n",
    "plt.hist(H2.flatten(),bins = 20,histtype = \"bar\")\n",
    "plt.axes([0.57, -0.1, .4, .1] )\n",
    "plt.hist(H3.flatten(),bins = 20,histtype = \"bar\")\n",
    "\n",
    "plt.show()"
   ]
  },
  {
   "cell_type": "code",
   "execution_count": 8,
   "metadata": {},
   "outputs": [
    {
     "name": "stdout",
     "output_type": "stream",
     "text": [
      "[[ 0.  0.]\n",
      " [ 0.  0.]]\n"
     ]
    }
   ],
   "source": [
    "xy_dif_exp = np.zeros([1,2])\n",
    "\n",
    "print(np.row_stack((xy_dif_exp,xy_dif_exp)))"
   ]
  },
  {
   "cell_type": "code",
   "execution_count": null,
   "metadata": {
    "collapsed": true
   },
   "outputs": [],
   "source": []
  }
 ],
 "metadata": {
  "kernelspec": {
   "display_name": "Python 3",
   "language": "python",
   "name": "python3"
  },
  "language_info": {
   "codemirror_mode": {
    "name": "ipython",
    "version": 3
   },
   "file_extension": ".py",
   "mimetype": "text/x-python",
   "name": "python",
   "nbconvert_exporter": "python",
   "pygments_lexer": "ipython3",
   "version": "3.6.1"
  }
 },
 "nbformat": 4,
 "nbformat_minor": 2
}
